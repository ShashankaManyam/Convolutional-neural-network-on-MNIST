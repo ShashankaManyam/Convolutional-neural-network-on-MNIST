{
 "cells": [
  {
   "cell_type": "markdown",
   "metadata": {},
   "source": [
    "# Apply 3 different CNN's on the MNIST dataset"
   ]
  },
  {
   "cell_type": "code",
   "execution_count": 8,
   "metadata": {},
   "outputs": [
    {
     "name": "stderr",
     "output_type": "stream",
     "text": [
      "Using TensorFlow backend.\n"
     ]
    },
    {
     "name": "stdout",
     "output_type": "stream",
     "text": [
      "x_train shape: (60000, 28, 28, 1)\n",
      "60000 train samples\n",
      "10000 test samples\n"
     ]
    }
   ],
   "source": [
    "# Credits: https://github.com/keras-team/keras/blob/master/examples/mnist_cnn.py\n",
    "#Refer this link for making better CNN networks\n",
    "#https://towardsdatascience.com/a-guide-to-an-efficient-way-to-build-neural-network-architecturespart-ii-hyper-parameter-42efca01e5d7\n",
    "import warnings\n",
    "warnings.filterwarnings(\"ignore\")\n",
    "#from __future__ import print_function\n",
    "exec('from __future__ import absolute_import, division, print_function')\n",
    "import keras\n",
    "from keras.datasets import mnist\n",
    "from keras.models import Sequential\n",
    "from keras.layers import Dense, Dropout, Flatten\n",
    "from keras.layers import Conv2D, MaxPooling2D\n",
    "from keras import backend as K\n",
    "batch_size = 128\n",
    "num_classes = 10\n",
    "epochs = 12\n",
    "# Preparing trainining and testing data\n",
    "# input image dimensions\n",
    "img_rows, img_cols = 28, 28\n",
    "# the data, split between train and test sets\n",
    "(x_train, y_train), (x_test, y_test) = mnist.load_data()\n",
    "#print(x_train.shape)\n",
    "if K.image_data_format() == 'channels_first':\n",
    "   x_train = x_train.reshape(x_train.shape[0], 1, img_rows, img_cols)\n",
    "   x_test = x_test.reshape(x_test.shape[0], 1, img_rows, img_cols)\n",
    "   input_shape = (1, img_rows, img_cols)\n",
    "else:\n",
    "   x_train = x_train.reshape(x_train.shape[0], img_rows, img_cols, 1)\n",
    "   x_test = x_test.reshape(x_test.shape[0], img_rows, img_cols, 1)\n",
    "   input_shape = (img_rows, img_cols, 1)\n",
    "x_train = x_train.astype('float32')\n",
    "x_test = x_test.astype('float32')\n",
    "x_train /= 255\n",
    "x_test /= 255\n",
    "print('x_train shape:', x_train.shape)\n",
    "print(x_train.shape[0], 'train samples')\n",
    "print(x_test.shape[0], 'test samples')\n",
    "# convert class vectors to binary class matrices\n",
    "y_train = keras.utils.to_categorical(y_train, num_classes)\n",
    "y_test = keras.utils.to_categorical(y_test, num_classes)"
   ]
  },
  {
   "cell_type": "code",
   "execution_count": 10,
   "metadata": {},
   "outputs": [],
   "source": [
    "%matplotlib notebook\n",
    "%matplotlib inline\n",
    "import matplotlib.pyplot as plt\n",
    "import numpy as np\n",
    "import time\n",
    "# https://gist.github.com/greydanus/f6eee59eaf1d90fcb3b534a25362cea4\n",
    "# https://stackoverflow.com/a/14434334 # this function is used to update the plots for each epoch and error\n",
    "def plt_dynamic(x, vy, ty, ax, colors=['b']):\n",
    "  ax.plot(x, vy, 'b', label=\"Validation Loss\")\n",
    "  ax.plot(x, ty, 'r', label=\"Train Loss\")\n",
    "  plt.legend()\n",
    "  plt.grid()\n",
    "  fig.canvas.draw()\n"
   ]
  },
  {
   "cell_type": "markdown",
   "metadata": {},
   "source": [
    "# Model 1-> 2 conv + 2 maxpoll+ 3 dense layers"
   ]
  },
  {
   "cell_type": "code",
   "execution_count": 12,
   "metadata": {},
   "outputs": [
    {
     "name": "stdout",
     "output_type": "stream",
     "text": [
      "_________________________________________________________________\n",
      "Layer (type)                 Output Shape              Param #   \n",
      "=================================================================\n",
      "conv2d_3 (Conv2D)            (None, 28, 28, 8)         80        \n",
      "_________________________________________________________________\n",
      "max_pooling2d_3 (MaxPooling2 (None, 14, 14, 8)         0         \n",
      "_________________________________________________________________\n",
      "conv2d_4 (Conv2D)            (None, 10, 10, 16)        3216      \n",
      "_________________________________________________________________\n",
      "max_pooling2d_4 (MaxPooling2 (None, 5, 5, 16)          0         \n",
      "_________________________________________________________________\n",
      "flatten_2 (Flatten)          (None, 400)               0         \n",
      "_________________________________________________________________\n",
      "dense_4 (Dense)              (None, 120)               48120     \n",
      "_________________________________________________________________\n",
      "dense_5 (Dense)              (None, 84)                10164     \n",
      "_________________________________________________________________\n",
      "dense_6 (Dense)              (None, 10)                850       \n",
      "=================================================================\n",
      "Total params: 62,430\n",
      "Trainable params: 62,430\n",
      "Non-trainable params: 0\n",
      "_________________________________________________________________\n"
     ]
    }
   ],
   "source": [
    "import warnings\n",
    "warnings.filterwarnings(\"ignore\")\n",
    "# In this (First Model) lets follow the general structure of the lenet we will make a simple model\n",
    "# Network Architecture\n",
    "# input -> conv -> polling -> conv -> polling -> FC -> FC -> output\n",
    "# 8 16 120 84 10\n",
    "model = Sequential()\n",
    "model.add(Conv2D(8, kernel_size=(3, 3),activation='relu',padding='same',input_shape=input_shape))\n",
    "model.add(MaxPooling2D(pool_size=(2, 2),strides=2))# for the location invariants\n",
    "model.add(Conv2D(16, (5, 5), activation='relu'))\n",
    "model.add(MaxPooling2D(pool_size=(2, 2),strides=2))# for the location invariants\n",
    "model.add(Flatten())\n",
    "model.add(Dense(120, activation='relu'))\n",
    "model.add(Dense(84, activation='relu'))\n",
    "model.add(Dense(num_classes, activation='softmax'))\n",
    "model.compile(loss=keras.losses.categorical_crossentropy,\n",
    "              optimizer=keras.optimizers.adam(),\n",
    "              metrics=['accuracy'])\n",
    "# this will train the model and validate the model in this fit function\n",
    "model.summary()"
   ]
  },
  {
   "cell_type": "code",
   "execution_count": 14,
   "metadata": {},
   "outputs": [
    {
     "name": "stdout",
     "output_type": "stream",
     "text": [
      "Train on 60000 samples, validate on 10000 samples\n",
      "Epoch 1/12\n",
      "60000/60000 [==============================] - 17s 288us/step - loss: 0.0689 - acc: 0.9789 - val_loss: 0.0538 - val_acc: 0.9838\n",
      "Epoch 2/12\n",
      "60000/60000 [==============================] - 15s 243us/step - loss: 0.0510 - acc: 0.9845 - val_loss: 0.0496 - val_acc: 0.9834\n",
      "Epoch 3/12\n",
      "60000/60000 [==============================] - 15s 246us/step - loss: 0.0395 - acc: 0.9879 - val_loss: 0.0364 - val_acc: 0.9880\n",
      "Epoch 4/12\n",
      "60000/60000 [==============================] - 15s 254us/step - loss: 0.0318 - acc: 0.9898 - val_loss: 0.0342 - val_acc: 0.9877\n",
      "Epoch 5/12\n",
      "60000/60000 [==============================] - 15s 258us/step - loss: 0.0290 - acc: 0.9908 - val_loss: 0.0356 - val_acc: 0.9884\n",
      "Epoch 6/12\n",
      "60000/60000 [==============================] - 15s 249us/step - loss: 0.0239 - acc: 0.9921 - val_loss: 0.0292 - val_acc: 0.9912\n",
      "Epoch 7/12\n",
      "60000/60000 [==============================] - 15s 255us/step - loss: 0.0215 - acc: 0.9932 - val_loss: 0.0334 - val_acc: 0.9884\n",
      "Epoch 8/12\n",
      "60000/60000 [==============================] - 15s 252us/step - loss: 0.0181 - acc: 0.9940 - val_loss: 0.0331 - val_acc: 0.9895\n",
      "Epoch 9/12\n",
      "60000/60000 [==============================] - 15s 247us/step - loss: 0.0156 - acc: 0.9948 - val_loss: 0.0322 - val_acc: 0.9898\n",
      "Epoch 10/12\n",
      "60000/60000 [==============================] - 15s 249us/step - loss: 0.0133 - acc: 0.9956 - val_loss: 0.0348 - val_acc: 0.9894\n",
      "Epoch 11/12\n",
      "60000/60000 [==============================] - 15s 252us/step - loss: 0.0125 - acc: 0.9957 - val_loss: 0.0407 - val_acc: 0.9869\n",
      "Epoch 12/12\n",
      "60000/60000 [==============================] - 15s 251us/step - loss: 0.0111 - acc: 0.9965 - val_loss: 0.0391 - val_acc: 0.9881\n",
      "Test loss: 0.039050305695623684\n",
      "Test accuracy: 0.9881\n"
     ]
    }
   ],
   "source": [
    "import warnings\n",
    "warnings.filterwarnings(\"ignore\")\n",
    "history=model.fit(x_train, y_train,\n",
    "                  batch_size=batch_size,\n",
    "                  epochs=epochs,\n",
    "                  verbose=1,\n",
    "                  validation_data=(x_test, y_test))\n",
    "score = model.evaluate(x_test, y_test, verbose=0)\n",
    "print('Test loss:', score[0])\n",
    "print('Test accuracy:', score[1])"
   ]
  },
  {
   "cell_type": "code",
   "execution_count": 15,
   "metadata": {},
   "outputs": [
    {
     "name": "stdout",
     "output_type": "stream",
     "text": [
      "Train score: 0.010427321565627062\n",
      "Train accuracy: 99.67333333333333\n",
      "\n",
      "************************ *********************\n",
      "\n",
      "Test score: 0.039050305695623684\n",
      "Test accuracy: 98.81\n"
     ]
    },
    {
     "data": {
      "image/png": "[encoded data removed]",
      "text/plain": [
       "<Figure size 432x288 with 1 Axes>"
      ]
     },
     "metadata": {
      "needs_background": "light"
     },
     "output_type": "display_data"
    }
   ],
   "source": [
    "score = model.evaluate(x_train, y_train, verbose=0)\n",
    "print('Train score:', score[0])\n",
    "print('Train accuracy:', score[1]*100)\n",
    "print('\\n************************ *********************\\n')\n",
    "#test accuracy\n",
    "score = model.evaluate(x_test, y_test, verbose=0)\n",
    "print('Test score:', score[0])\n",
    "print('Test accuracy:', score[1]*100)\n",
    "# plot\n",
    "fig,ax = plt.subplots(1,1)\n",
    "ax.set_xlabel('epoch');\n",
    "ax.set_ylabel('Categorical Crossentropy Loss')\n",
    "x = list(range(1,12+1))\n",
    "vy = history.history['val_loss']\n",
    "ty = history.history['loss']\n",
    "plt_dynamic(x, vy, ty, ax)"
   ]
  },
  {
   "cell_type": "markdown",
   "metadata": {},
   "source": [
    "# Model 2-> 3 conv + 3 maxpoll+ 2 dense layers"
   ]
  },
  {
   "cell_type": "code",
   "execution_count": 16,
   "metadata": {},
   "outputs": [
    {
     "name": "stdout",
     "output_type": "stream",
     "text": [
      "_________________________________________________________________\n",
      "Layer (type)                 Output Shape              Param #   \n",
      "=================================================================\n",
      "conv2d_5 (Conv2D)            (None, 26, 26, 32)        320       \n",
      "_________________________________________________________________\n",
      "max_pooling2d_5 (MaxPooling2 (None, 13, 13, 32)        0         \n",
      "_________________________________________________________________\n",
      "conv2d_6 (Conv2D)            (None, 11, 11, 64)        18496     \n",
      "_________________________________________________________________\n",
      "max_pooling2d_6 (MaxPooling2 (None, 5, 5, 64)          0         \n",
      "_________________________________________________________________\n",
      "conv2d_7 (Conv2D)            (None, 3, 3, 128)         73856     \n",
      "_________________________________________________________________\n",
      "max_pooling2d_7 (MaxPooling2 (None, 1, 1, 128)         0         \n",
      "_________________________________________________________________\n",
      "flatten_3 (Flatten)          (None, 128)               0         \n",
      "_________________________________________________________________\n",
      "dense_7 (Dense)              (None, 64)                8256      \n",
      "_________________________________________________________________\n",
      "dense_8 (Dense)              (None, 10)                650       \n",
      "=================================================================\n",
      "Total params: 101,578\n",
      "Trainable params: 101,578\n",
      "Non-trainable params: 0\n",
      "_________________________________________________________________\n"
     ]
    }
   ],
   "source": [
    "import warnings\n",
    "warnings.filterwarnings(\"ignore\")\n",
    "# go basic model to deep layer model\n",
    "# Network Architecture\n",
    "# input -> conv -> polling -> conv -> polling -> conv -> polling -> FC -> output\n",
    "# 8 32 128 64\n",
    "model = Sequential()\n",
    "model.add(Conv2D(32, kernel_size=(3, 3),activation='relu',input_shape=input_shape))\n",
    "model.add(MaxPooling2D(pool_size=(2, 2),strides=2))# for the location invariants\n",
    "model.add(Conv2D(64, (3,3), activation='relu'))\n",
    "model.add(MaxPooling2D(pool_size=(2, 2),strides=2))# for the location invariants\n",
    "model.add(Conv2D(128, (3, 3), activation='relu'))\n",
    "model.add(MaxPooling2D(pool_size=(2, 2),strides=2))# for the location invariants\n",
    "model.add(Flatten())\n",
    "model.add(Dense(64, activation='relu'))\n",
    "model.add(Dense(num_classes, activation='softmax'))\n",
    "model.compile(loss=keras.losses.categorical_crossentropy,\n",
    "optimizer=keras.optimizers.adam(),\n",
    "metrics=['accuracy'])\n",
    "# this will train the model and validate the model in this fit function\n",
    "model.summary()"
   ]
  },
  {
   "cell_type": "code",
   "execution_count": 17,
   "metadata": {},
   "outputs": [
    {
     "name": "stdout",
     "output_type": "stream",
     "text": [
      "Train on 60000 samples, validate on 10000 samples\n",
      "Epoch 1/12\n",
      "60000/60000 [==============================] - 40s 670us/step - loss: 0.3216 - acc: 0.9046 - val_loss: 0.1012 - val_acc: 0.9684\n",
      "Epoch 2/12\n",
      "60000/60000 [==============================] - 38s 627us/step - loss: 0.0935 - acc: 0.9714 - val_loss: 0.0711 - val_acc: 0.9772\n",
      "Epoch 3/12\n",
      "60000/60000 [==============================] - 37s 620us/step - loss: 0.0665 - acc: 0.9797 - val_loss: 0.0708 - val_acc: 0.9789\n",
      "Epoch 4/12\n",
      "60000/60000 [==============================] - 37s 620us/step - loss: 0.0537 - acc: 0.9834 - val_loss: 0.0510 - val_acc: 0.9845\n",
      "Epoch 5/12\n",
      "60000/60000 [==============================] - 38s 627us/step - loss: 0.0458 - acc: 0.9854 - val_loss: 0.0579 - val_acc: 0.9832\n",
      "Epoch 6/12\n",
      "60000/60000 [==============================] - 37s 620us/step - loss: 0.0380 - acc: 0.9881 - val_loss: 0.0448 - val_acc: 0.9861\n",
      "Epoch 7/12\n",
      "60000/60000 [==============================] - 37s 624us/step - loss: 0.0323 - acc: 0.9901 - val_loss: 0.0474 - val_acc: 0.9864\n",
      "Epoch 8/12\n",
      "60000/60000 [==============================] - 38s 626us/step - loss: 0.0271 - acc: 0.9917 - val_loss: 0.0484 - val_acc: 0.9867\n",
      "Epoch 9/12\n",
      "60000/60000 [==============================] - 38s 634us/step - loss: 0.0231 - acc: 0.9926 - val_loss: 0.0564 - val_acc: 0.9846\n",
      "Epoch 10/12\n",
      "60000/60000 [==============================] - 37s 622us/step - loss: 0.0213 - acc: 0.9931 - val_loss: 0.0584 - val_acc: 0.9823\n",
      "Epoch 11/12\n",
      "60000/60000 [==============================] - 38s 627us/step - loss: 0.0174 - acc: 0.9946 - val_loss: 0.0461 - val_acc: 0.9872\n",
      "Epoch 12/12\n",
      "60000/60000 [==============================] - 38s 629us/step - loss: 0.0162 - acc: 0.9948 - val_loss: 0.0454 - val_acc: 0.9881\n",
      "Test loss: 0.04539995787585067\n",
      "Test accuracy: 0.9881\n"
     ]
    }
   ],
   "source": [
    "import warnings\n",
    "warnings.filterwarnings(\"ignore\")\n",
    "history=model.fit(x_train, y_train,\n",
    "                  batch_size=batch_size,\n",
    "                  epochs=epochs,\n",
    "                  verbose=1,\n",
    "                  validation_data=(x_test, y_test))\n",
    "score = model.evaluate(x_test, y_test, verbose=0)\n",
    "print('Test loss:', score[0])\n",
    "print('Test accuracy:', score[1])"
   ]
  },
  {
   "cell_type": "code",
   "execution_count": 18,
   "metadata": {},
   "outputs": [
    {
     "name": "stdout",
     "output_type": "stream",
     "text": [
      "Train score: 0.009743525346997921\n",
      "Train accuracy: 99.69833333333334\n",
      "\n",
      "************************ *********************\n",
      "\n",
      "Test score: 0.04539995787585067\n",
      "Test accuracy: 98.81\n"
     ]
    },
    {
     "data": {
      "image/png": "[encoded data removed]",
      "text/plain": [
       "<Figure size 432x288 with 1 Axes>"
      ]
     },
     "metadata": {
      "needs_background": "light"
     },
     "output_type": "display_data"
    }
   ],
   "source": [
    "score = model.evaluate(x_train, y_train, verbose=0)\n",
    "print('Train score:', score[0])\n",
    "print('Train accuracy:', score[1]*100)\n",
    "print('\\n************************ *********************\\n')\n",
    "#test accuracy\n",
    "score = model.evaluate(x_test, y_test, verbose=0)\n",
    "print('Test score:', score[0])\n",
    "print('Test accuracy:', score[1]*100)\n",
    "# plot\n",
    "fig,ax = plt.subplots(1,1)\n",
    "ax.set_xlabel('epoch');\n",
    "ax.set_ylabel('Categorical Crossentropy Loss')\n",
    "x = list(range(1,12+1))\n",
    "vy = history.history['val_loss']\n",
    "ty = history.history['loss']\n",
    "plt_dynamic(x, vy, ty, ax)"
   ]
  },
  {
   "cell_type": "markdown",
   "metadata": {},
   "source": [
    "Finally we train a model with the trend Conv-Conv-Pool-Conv-Conv-Pool"
   ]
  },
  {
   "cell_type": "markdown",
   "metadata": {},
   "source": [
    "# Model 3 -> 4 conv+ 2 maxpoll + 2 dence"
   ]
  },
  {
   "cell_type": "code",
   "execution_count": 19,
   "metadata": {},
   "outputs": [
    {
     "name": "stdout",
     "output_type": "stream",
     "text": [
      "_________________________________________________________________\n",
      "Layer (type)                 Output Shape              Param #   \n",
      "=================================================================\n",
      "conv2d_8 (Conv2D)            (None, 28, 28, 16)        160       \n",
      "_________________________________________________________________\n",
      "conv2d_9 (Conv2D)            (None, 28, 28, 16)        2320      \n",
      "_________________________________________________________________\n",
      "max_pooling2d_8 (MaxPooling2 (None, 14, 14, 16)        0         \n",
      "_________________________________________________________________\n",
      "conv2d_10 (Conv2D)           (None, 12, 12, 32)        4640      \n",
      "_________________________________________________________________\n",
      "conv2d_11 (Conv2D)           (None, 10, 10, 32)        9248      \n",
      "_________________________________________________________________\n",
      "max_pooling2d_9 (MaxPooling2 (None, 5, 5, 32)          0         \n",
      "_________________________________________________________________\n",
      "flatten_4 (Flatten)          (None, 800)               0         \n",
      "_________________________________________________________________\n",
      "dense_9 (Dense)              (None, 512)               410112    \n",
      "_________________________________________________________________\n",
      "dense_10 (Dense)             (None, 10)                5130      \n",
      "=================================================================\n",
      "Total params: 431,610\n",
      "Trainable params: 431,610\n",
      "Non-trainable params: 0\n",
      "_________________________________________________________________\n"
     ]
    }
   ],
   "source": [
    "# go basic model to deep layer model\n",
    "# Network Architecture\n",
    "# input -> conv -> conv -> polling -> conv -> conv -> polling -> FC -> output\n",
    "# 16 16 32 32 512\n",
    "model = Sequential()\n",
    "model.add(Conv2D(16, kernel_size=(3, 3),activation='relu',padding='same',input_shape=input_shape))\n",
    "model.add(Conv2D(16,(3, 3),activation='relu',padding='same'))\n",
    "model.add(MaxPooling2D(pool_size=(2, 2),strides=2))# for the location invariants\n",
    "model.add(Conv2D(32, (3,3), activation='relu'))\n",
    "model.add(Conv2D(32, (3,3), activation='relu'))\n",
    "model.add(MaxPooling2D(pool_size=(2, 2),strides=2))# for the location invariants\n",
    "model.add(Flatten())\n",
    "model.add(Dense(512, activation='relu'))\n",
    "model.add(Dense(num_classes, activation='softmax'))\n",
    "model.compile(loss=keras.losses.categorical_crossentropy,\n",
    "optimizer=keras.optimizers.adam(),\n",
    "metrics=['accuracy'])\n",
    "# this will train the model and validate the model in this fit function\n",
    "model.summary()"
   ]
  },
  {
   "cell_type": "code",
   "execution_count": 20,
   "metadata": {},
   "outputs": [
    {
     "name": "stdout",
     "output_type": "stream",
     "text": [
      "Train on 60000 samples, validate on 10000 samples\n",
      "Epoch 1/12\n",
      "60000/60000 [==============================] - 64s 1ms/step - loss: 0.1727 - acc: 0.9479 - val_loss: 0.0515 - val_acc: 0.9826\n",
      "Epoch 2/12\n",
      "60000/60000 [==============================] - 59s 987us/step - loss: 0.0442 - acc: 0.9862 - val_loss: 0.0300 - val_acc: 0.9905\n",
      "Epoch 3/12\n",
      "60000/60000 [==============================] - 59s 983us/step - loss: 0.0306 - acc: 0.9906 - val_loss: 0.0258 - val_acc: 0.9912\n",
      "Epoch 4/12\n",
      "60000/60000 [==============================] - 61s 1ms/step - loss: 0.0221 - acc: 0.9931 - val_loss: 0.0296 - val_acc: 0.9905\n",
      "Epoch 5/12\n",
      "60000/60000 [==============================] - 67s 1ms/step - loss: 0.0173 - acc: 0.9940 - val_loss: 0.0294 - val_acc: 0.9912\n",
      "Epoch 6/12\n",
      "60000/60000 [==============================] - 57s 957us/step - loss: 0.0147 - acc: 0.9952 - val_loss: 0.0319 - val_acc: 0.9904\n",
      "Epoch 7/12\n",
      "60000/60000 [==============================] - 61s 1ms/step - loss: 0.0112 - acc: 0.9963 - val_loss: 0.0282 - val_acc: 0.9922\n",
      "Epoch 8/12\n",
      "60000/60000 [==============================] - 58s 963us/step - loss: 0.0095 - acc: 0.9970 - val_loss: 0.0339 - val_acc: 0.9897\n",
      "Epoch 9/12\n",
      "60000/60000 [==============================] - 58s 973us/step - loss: 0.0099 - acc: 0.9967 - val_loss: 0.0374 - val_acc: 0.9897\n",
      "Epoch 10/12\n",
      "60000/60000 [==============================] - 59s 976us/step - loss: 0.0070 - acc: 0.9975 - val_loss: 0.0287 - val_acc: 0.9914\n",
      "Epoch 11/12\n",
      "60000/60000 [==============================] - 59s 980us/step - loss: 0.0067 - acc: 0.9978 - val_loss: 0.0307 - val_acc: 0.9912\n",
      "Epoch 12/12\n",
      "60000/60000 [==============================] - 59s 987us/step - loss: 0.0051 - acc: 0.9986 - val_loss: 0.0242 - val_acc: 0.9935\n",
      "Test loss: 0.024233603691490725\n",
      "Test accuracy: 0.9935\n"
     ]
    }
   ],
   "source": [
    "import warnings\n",
    "warnings.filterwarnings(\"ignore\")\n",
    "history=model.fit(x_train, y_train,\n",
    "                  batch_size=batch_size,\n",
    "                  epochs=epochs,\n",
    "                  verbose=1,\n",
    "                  validation_data=(x_test, y_test))\n",
    "score = model.evaluate(x_test, y_test, verbose=0)\n",
    "print('Test loss:', score[0])\n",
    "print('Test accuracy:', score[1])"
   ]
  },
  {
   "cell_type": "code",
   "execution_count": 21,
   "metadata": {},
   "outputs": [
    {
     "name": "stdout",
     "output_type": "stream",
     "text": [
      "Train score: 0.0032476350627371935\n",
      "Train accuracy: 99.90833333333333\n",
      "\n",
      "************************ *********************\n",
      "\n",
      "Test score: 0.024233603691490725\n",
      "Test accuracy: 99.35000000000001\n"
     ]
    },
    {
     "data": {
      "image/png": "[encoded data removed]",
      "text/plain": [
       "<Figure size 432x288 with 1 Axes>"
      ]
     },
     "metadata": {
      "needs_background": "light"
     },
     "output_type": "display_data"
    }
   ],
   "source": [
    "score = model.evaluate(x_train, y_train, verbose=0)\n",
    "print('Train score:', score[0])\n",
    "print('Train accuracy:', score[1]*100)\n",
    "print('\\n************************ *********************\\n')\n",
    "#test accuracy\n",
    "score = model.evaluate(x_test, y_test, verbose=0)\n",
    "print('Test score:', score[0])\n",
    "print('Test accuracy:', score[1]*100)\n",
    "# plot\n",
    "fig,ax = plt.subplots(1,1)\n",
    "ax.set_xlabel('epoch');\n",
    "ax.set_ylabel('Categorical Crossentropy Loss')\n",
    "x = list(range(1,12+1))\n",
    "vy = history.history['val_loss']\n",
    "ty = history.history['loss']\n",
    "plt_dynamic(x, vy, ty, ax)\n"
   ]
  },
  {
   "cell_type": "markdown",
   "metadata": {},
   "source": [
    "# Model 1-> 2 conv + 2 maxpoll+ 3 dense layer +Dropout (0.5)"
   ]
  },
  {
   "cell_type": "code",
   "execution_count": 23,
   "metadata": {},
   "outputs": [
    {
     "name": "stdout",
     "output_type": "stream",
     "text": [
      "_________________________________________________________________\n",
      "Layer (type)                 Output Shape              Param #   \n",
      "=================================================================\n",
      "conv2d_14 (Conv2D)           (None, 28, 28, 8)         80        \n",
      "_________________________________________________________________\n",
      "max_pooling2d_12 (MaxPooling (None, 14, 14, 8)         0         \n",
      "_________________________________________________________________\n",
      "conv2d_15 (Conv2D)           (None, 10, 10, 16)        3216      \n",
      "_________________________________________________________________\n",
      "max_pooling2d_13 (MaxPooling (None, 5, 5, 16)          0         \n",
      "_________________________________________________________________\n",
      "dropout_2 (Dropout)          (None, 5, 5, 16)          0         \n",
      "_________________________________________________________________\n",
      "flatten_6 (Flatten)          (None, 400)               0         \n",
      "_________________________________________________________________\n",
      "dense_14 (Dense)             (None, 120)               48120     \n",
      "_________________________________________________________________\n",
      "dense_15 (Dense)             (None, 84)                10164     \n",
      "_________________________________________________________________\n",
      "dense_16 (Dense)             (None, 10)                850       \n",
      "=================================================================\n",
      "Total params: 62,430\n",
      "Trainable params: 62,430\n",
      "Non-trainable params: 0\n",
      "_________________________________________________________________\n"
     ]
    }
   ],
   "source": [
    "#Same models with Dropouts\n",
    "import warnings\n",
    "warnings.filterwarnings(\"ignore\")\n",
    "# In this (First Model) lets follow the general structure of the lenet we will make a simple model\n",
    "# Network Architecture\n",
    "# input -> conv -> polling -> conv -> polling ->droupout-> FC -> FC -> output\n",
    "# 8 16 120 84 10\n",
    "model = Sequential()\n",
    "model.add(Conv2D(8, kernel_size=(3, 3),activation='relu',padding='same',input_shape=input_shape))\n",
    "model.add(MaxPooling2D(pool_size=(2, 2),strides=2))# for the location invariants\n",
    "model.add(Conv2D(16, (5, 5), activation='relu'))\n",
    "model.add(MaxPooling2D(pool_size=(2, 2),strides=2))# for the location invariants\n",
    "model.add(Dropout(0.5))\n",
    "model.add(Flatten())\n",
    "model.add(Dense(120, activation='relu'))\n",
    "model.add(Dense(84, activation='relu'))\n",
    "model.add(Dense(num_classes, activation='softmax'))\n",
    "model.compile(loss=keras.losses.categorical_crossentropy,\n",
    "optimizer=keras.optimizers.adam(),\n",
    "metrics=['accuracy'])\n",
    "# this will train the model and validate the model in this fit function\n",
    "model.summary()"
   ]
  },
  {
   "cell_type": "code",
   "execution_count": 24,
   "metadata": {},
   "outputs": [
    {
     "name": "stdout",
     "output_type": "stream",
     "text": [
      "Train on 60000 samples, validate on 10000 samples\n",
      "Epoch 1/12\n",
      "60000/60000 [==============================] - 17s 284us/step - loss: 0.4244 - acc: 0.8639 - val_loss: 0.0859 - val_acc: 0.9748\n",
      "Epoch 2/12\n",
      "60000/60000 [==============================] - 16s 268us/step - loss: 0.1336 - acc: 0.9576 - val_loss: 0.0558 - val_acc: 0.9824\n",
      "Epoch 3/12\n",
      "60000/60000 [==============================] - 17s 278us/step - loss: 0.1068 - acc: 0.9662 - val_loss: 0.0446 - val_acc: 0.9849\n",
      "Epoch 4/12\n",
      "60000/60000 [==============================] - 17s 276us/step - loss: 0.0897 - acc: 0.9710 - val_loss: 0.0395 - val_acc: 0.9867\n",
      "Epoch 5/12\n",
      "60000/60000 [==============================] - 17s 286us/step - loss: 0.0777 - acc: 0.9746 - val_loss: 0.0351 - val_acc: 0.9891\n",
      "Epoch 6/12\n",
      "60000/60000 [==============================] - 17s 278us/step - loss: 0.0733 - acc: 0.9768 - val_loss: 0.0346 - val_acc: 0.9881\n",
      "Epoch 7/12\n",
      "60000/60000 [==============================] - 17s 277us/step - loss: 0.0653 - acc: 0.9791 - val_loss: 0.0342 - val_acc: 0.9888\n",
      "Epoch 8/12\n",
      "60000/60000 [==============================] - 17s 277us/step - loss: 0.0615 - acc: 0.9804 - val_loss: 0.0302 - val_acc: 0.9898\n",
      "Epoch 9/12\n",
      "60000/60000 [==============================] - 17s 287us/step - loss: 0.0572 - acc: 0.9813 - val_loss: 0.0303 - val_acc: 0.9894\n",
      "Epoch 10/12\n",
      "60000/60000 [==============================] - 17s 282us/step - loss: 0.0553 - acc: 0.9819 - val_loss: 0.0302 - val_acc: 0.9897\n",
      "Epoch 11/12\n",
      "60000/60000 [==============================] - 17s 286us/step - loss: 0.0524 - acc: 0.9833 - val_loss: 0.0260 - val_acc: 0.9910\n",
      "Epoch 12/12\n",
      "60000/60000 [==============================] - 17s 286us/step - loss: 0.0500 - acc: 0.9837 - val_loss: 0.0273 - val_acc: 0.9910\n",
      "Test loss: 0.027327572450373556\n",
      "Test accuracy: 0.991\n"
     ]
    }
   ],
   "source": [
    "history=model.fit(x_train, y_train,\n",
    "                  batch_size=batch_size,\n",
    "                  epochs=epochs,\n",
    "                  verbose=1,\n",
    "                  validation_data=(x_test, y_test))\n",
    "score = model.evaluate(x_test, y_test, verbose=0)\n",
    "print('Test loss:', score[0])\n",
    "print('Test accuracy:', score[1])"
   ]
  },
  {
   "cell_type": "code",
   "execution_count": 25,
   "metadata": {},
   "outputs": [
    {
     "name": "stdout",
     "output_type": "stream",
     "text": [
      "Train score: 0.018932762710633686\n",
      "Train accuracy: 99.43666666666667\n",
      "\n",
      "************************ *********************\n",
      "\n",
      "Test score: 0.027327572450373556\n",
      "Test accuracy: 99.1\n"
     ]
    },
    {
     "data": {
      "image/png": "[encoded data removed]",
      "text/plain": [
       "<Figure size 432x288 with 1 Axes>"
      ]
     },
     "metadata": {
      "needs_background": "light"
     },
     "output_type": "display_data"
    }
   ],
   "source": [
    "score = model.evaluate(x_train, y_train, verbose=0)\n",
    "print('Train score:', score[0])\n",
    "print('Train accuracy:', score[1]*100)\n",
    "print('\\n************************ *********************\\n')\n",
    "#test accuracy\n",
    "score = model.evaluate(x_test, y_test, verbose=0)\n",
    "print('Test score:', score[0])\n",
    "print('Test accuracy:', score[1]*100)\n",
    "# plot\n",
    "fig,ax = plt.subplots(1,1)\n",
    "ax.set_xlabel('epoch');\n",
    "ax.set_ylabel('Categorical Crossentropy Loss')\n",
    "x = list(range(1,12+1))\n",
    "vy = history.history['val_loss']\n",
    "ty = history.history['loss']\n",
    "plt_dynamic(x, vy, ty, ax)\n"
   ]
  },
  {
   "cell_type": "markdown",
   "metadata": {},
   "source": [
    "# Model 2-> 3 conv + 3 maxpoll+ 2 dense layers + Dropout (0.9)"
   ]
  },
  {
   "cell_type": "code",
   "execution_count": 27,
   "metadata": {},
   "outputs": [
    {
     "name": "stderr",
     "output_type": "stream",
     "text": [
      "W0629 22:43:29.693563   692 nn_ops.py:4224] Large dropout rate: 0.9 (>0.5). In TensorFlow 2.x, dropout() uses dropout rate instead of keep_prob. Please ensure that this is intended.\n"
     ]
    },
    {
     "name": "stdout",
     "output_type": "stream",
     "text": [
      "_________________________________________________________________\n",
      "Layer (type)                 Output Shape              Param #   \n",
      "=================================================================\n",
      "conv2d_19 (Conv2D)           (None, 26, 26, 32)        320       \n",
      "_________________________________________________________________\n",
      "max_pooling2d_17 (MaxPooling (None, 13, 13, 32)        0         \n",
      "_________________________________________________________________\n",
      "conv2d_20 (Conv2D)           (None, 11, 11, 64)        18496     \n",
      "_________________________________________________________________\n",
      "max_pooling2d_18 (MaxPooling (None, 5, 5, 64)          0         \n",
      "_________________________________________________________________\n",
      "conv2d_21 (Conv2D)           (None, 3, 3, 128)         73856     \n",
      "_________________________________________________________________\n",
      "max_pooling2d_19 (MaxPooling (None, 1, 1, 128)         0         \n",
      "_________________________________________________________________\n",
      "dropout_4 (Dropout)          (None, 1, 1, 128)         0         \n",
      "_________________________________________________________________\n",
      "flatten_8 (Flatten)          (None, 128)               0         \n",
      "_________________________________________________________________\n",
      "dense_19 (Dense)             (None, 64)                8256      \n",
      "_________________________________________________________________\n",
      "dense_20 (Dense)             (None, 10)                650       \n",
      "=================================================================\n",
      "Total params: 101,578\n",
      "Trainable params: 101,578\n",
      "Non-trainable params: 0\n",
      "_________________________________________________________________\n"
     ]
    }
   ],
   "source": [
    "import warnings\n",
    "warnings.filterwarnings(\"ignore\")\n",
    "# go basic model to deep layer model\n",
    "# Network Architecture\n",
    "# input -> conv -> polling -> conv -> polling -> conv -> polling ->dropout-> FC -> output\n",
    "# 8 32 128 64\n",
    "model = Sequential()\n",
    "model.add(Conv2D(32, kernel_size=(3, 3),activation='relu',input_shape=input_shape))\n",
    "model.add(MaxPooling2D(pool_size=(2, 2),strides=2))# for the location invariants\n",
    "model.add(Conv2D(64, (3,3), activation='relu'))\n",
    "model.add(MaxPooling2D(pool_size=(2, 2),strides=2))# for the location invariants\n",
    "model.add(Conv2D(128, (3, 3), activation='relu'))\n",
    "model.add(MaxPooling2D(pool_size=(2, 2),strides=2))# for the location invariants\n",
    "model.add(Dropout(0.9))\n",
    "model.add(Flatten())\n",
    "model.add(Dense(64, activation='relu'))\n",
    "model.add(Dense(num_classes, activation='softmax'))\n",
    "model.compile(loss=keras.losses.categorical_crossentropy,\n",
    "optimizer=keras.optimizers.adam(),\n",
    "metrics=['accuracy'])\n",
    "# this will train the model and validate the model in this fit function\n",
    "model.summary()"
   ]
  },
  {
   "cell_type": "code",
   "execution_count": 28,
   "metadata": {},
   "outputs": [
    {
     "name": "stdout",
     "output_type": "stream",
     "text": [
      "Train on 60000 samples, validate on 10000 samples\n",
      "Epoch 1/12\n",
      "60000/60000 [==============================] - 39s 654us/step - loss: 1.3013 - acc: 0.5210 - val_loss: 0.2997 - val_acc: 0.9407\n",
      "Epoch 2/12\n",
      "60000/60000 [==============================] - 37s 615us/step - loss: 0.8030 - acc: 0.7029 - val_loss: 0.1820 - val_acc: 0.9527\n",
      "Epoch 3/12\n",
      "60000/60000 [==============================] - 37s 616us/step - loss: 0.6701 - acc: 0.7518 - val_loss: 0.1444 - val_acc: 0.9614\n",
      "Epoch 4/12\n",
      "60000/60000 [==============================] - 36s 605us/step - loss: 0.6075 - acc: 0.7772 - val_loss: 0.1168 - val_acc: 0.9679\n",
      "Epoch 5/12\n",
      "60000/60000 [==============================] - 37s 620us/step - loss: 0.5534 - acc: 0.8004 - val_loss: 0.1155 - val_acc: 0.9679\n",
      "Epoch 6/12\n",
      "60000/60000 [==============================] - 37s 610us/step - loss: 0.5137 - acc: 0.8165 - val_loss: 0.1043 - val_acc: 0.9701\n",
      "Epoch 7/12\n",
      "60000/60000 [==============================] - 37s 617us/step - loss: 0.4818 - acc: 0.8267 - val_loss: 0.0927 - val_acc: 0.9736\n",
      "Epoch 8/12\n",
      "60000/60000 [==============================] - 37s 613us/step - loss: 0.4595 - acc: 0.8352 - val_loss: 0.1023 - val_acc: 0.9700\n",
      "Epoch 9/12\n",
      "60000/60000 [==============================] - 36s 596us/step - loss: 0.4343 - acc: 0.8478 - val_loss: 0.0919 - val_acc: 0.9736\n",
      "Epoch 10/12\n",
      "60000/60000 [==============================] - 36s 604us/step - loss: 0.4174 - acc: 0.8532 - val_loss: 0.0951 - val_acc: 0.9716\n",
      "Epoch 11/12\n",
      "60000/60000 [==============================] - 36s 599us/step - loss: 0.3985 - acc: 0.8642 - val_loss: 0.0918 - val_acc: 0.9724\n",
      "Epoch 12/12\n",
      "60000/60000 [==============================] - 36s 594us/step - loss: 0.3830 - acc: 0.8711 - val_loss: 0.0968 - val_acc: 0.9701\n",
      "Test loss: 0.09679163726270198\n",
      "Test accuracy: 0.9701\n"
     ]
    }
   ],
   "source": [
    "history=model.fit(x_train, y_train,\n",
    "batch_size=batch_size,\n",
    "epochs=epochs,\n",
    "verbose=1,\n",
    "validation_data=(x_test, y_test))\n",
    "score = model.evaluate(x_test, y_test, verbose=0)\n",
    "print('Test loss:', score[0])\n",
    "print('Test accuracy:', score[1])"
   ]
  },
  {
   "cell_type": "code",
   "execution_count": 29,
   "metadata": {},
   "outputs": [
    {
     "name": "stdout",
     "output_type": "stream",
     "text": [
      "Train score: 0.08697761877303323\n",
      "Train accuracy: 97.515\n",
      "\n",
      "************************ *********************\n",
      "\n",
      "Test score: 0.09679163726270198\n",
      "Test accuracy: 97.00999999999999\n"
     ]
    },
    {
     "data": {
      "image/png": "[encoded data removed]",
      "text/plain": [
       "<Figure size 432x288 with 1 Axes>"
      ]
     },
     "metadata": {
      "needs_background": "light"
     },
     "output_type": "display_data"
    }
   ],
   "source": [
    "score = model.evaluate(x_train, y_train, verbose=0)\n",
    "print('Train score:', score[0])\n",
    "print('Train accuracy:', score[1]*100)\n",
    "print('\\n************************ *********************\\n')\n",
    "#test accuracy\n",
    "score = model.evaluate(x_test, y_test, verbose=0)\n",
    "print('Test score:', score[0])\n",
    "print('Test accuracy:', score[1]*100)\n",
    "# plot\n",
    "fig,ax = plt.subplots(1,1)\n",
    "ax.set_xlabel('epoch');\n",
    "ax.set_ylabel('Categorical Crossentropy Loss')\n",
    "x = list(range(1,12+1))\n",
    "vy = history.history['val_loss']\n",
    "ty = history.history['loss']\n",
    "plt_dynamic(x, vy, ty, ax)"
   ]
  },
  {
   "cell_type": "markdown",
   "metadata": {},
   "source": [
    "# Model 3-> 4 conv + 2 maxpoll+ 2 dense layers + Dropout (0.3)"
   ]
  },
  {
   "cell_type": "code",
   "execution_count": 30,
   "metadata": {},
   "outputs": [
    {
     "name": "stdout",
     "output_type": "stream",
     "text": [
      "_________________________________________________________________\n",
      "Layer (type)                 Output Shape              Param #   \n",
      "=================================================================\n",
      "conv2d_22 (Conv2D)           (None, 28, 28, 16)        160       \n",
      "_________________________________________________________________\n",
      "conv2d_23 (Conv2D)           (None, 28, 28, 16)        2320      \n",
      "_________________________________________________________________\n",
      "max_pooling2d_20 (MaxPooling (None, 14, 14, 16)        0         \n",
      "_________________________________________________________________\n",
      "conv2d_24 (Conv2D)           (None, 12, 12, 32)        4640      \n",
      "_________________________________________________________________\n",
      "conv2d_25 (Conv2D)           (None, 10, 10, 32)        9248      \n",
      "_________________________________________________________________\n",
      "max_pooling2d_21 (MaxPooling (None, 5, 5, 32)          0         \n",
      "_________________________________________________________________\n",
      "dropout_5 (Dropout)          (None, 5, 5, 32)          0         \n",
      "_________________________________________________________________\n",
      "flatten_9 (Flatten)          (None, 800)               0         \n",
      "_________________________________________________________________\n",
      "dense_21 (Dense)             (None, 512)               410112    \n",
      "_________________________________________________________________\n",
      "dense_22 (Dense)             (None, 10)                5130      \n",
      "=================================================================\n",
      "Total params: 431,610\n",
      "Trainable params: 431,610\n",
      "Non-trainable params: 0\n",
      "_________________________________________________________________\n"
     ]
    }
   ],
   "source": [
    "\n",
    "# go basic model to deep layer model\n",
    "# Network Architecture\n",
    "# input -> conv -> conv -> polling -> conv -> conv -> polling ->dropout-> FC -> output\n",
    "# 16 16 32 32 512\n",
    "model = Sequential()\n",
    "model.add(Conv2D(16, kernel_size=(3, 3),activation='relu',padding='same',input_shape=input_shape))\n",
    "model.add(Conv2D(16,(3, 3),activation='relu',padding='same'))\n",
    "model.add(MaxPooling2D(pool_size=(2, 2),strides=2))# for the location invariants\n",
    "model.add(Conv2D(32, (3,3), activation='relu'))\n",
    "model.add(Conv2D(32, (3,3), activation='relu'))\n",
    "model.add(MaxPooling2D(pool_size=(2, 2),strides=2))# for the location invariants\n",
    "model.add(Dropout(0.3))\n",
    "model.add(Flatten())\n",
    "model.add(Dense(512, activation='relu'))\n",
    "model.add(Dense(num_classes, activation='softmax'))\n",
    "model.compile(loss=keras.losses.categorical_crossentropy,\n",
    "optimizer=keras.optimizers.adam(),\n",
    "metrics=['accuracy'])\n",
    "# this will train the model and validate the model in this fit function\n",
    "model.summary()"
   ]
  },
  {
   "cell_type": "code",
   "execution_count": 31,
   "metadata": {},
   "outputs": [
    {
     "name": "stdout",
     "output_type": "stream",
     "text": [
      "Train on 60000 samples, validate on 10000 samples\n",
      "Epoch 1/12\n",
      "60000/60000 [==============================] - 59s 975us/step - loss: 0.2071 - acc: 0.9347 - val_loss: 0.0499 - val_acc: 0.9845\n",
      "Epoch 2/12\n",
      "60000/60000 [==============================] - 57s 957us/step - loss: 0.0600 - acc: 0.9814 - val_loss: 0.0342 - val_acc: 0.9890\n",
      "Epoch 3/12\n",
      "60000/60000 [==============================] - 58s 963us/step - loss: 0.0414 - acc: 0.9868 - val_loss: 0.0331 - val_acc: 0.9896\n",
      "Epoch 4/12\n",
      "60000/60000 [==============================] - 57s 957us/step - loss: 0.0330 - acc: 0.9895 - val_loss: 0.0222 - val_acc: 0.9932\n",
      "Epoch 5/12\n",
      "60000/60000 [==============================] - 58s 967us/step - loss: 0.0286 - acc: 0.9907 - val_loss: 0.0241 - val_acc: 0.9920\n",
      "Epoch 6/12\n",
      "60000/60000 [==============================] - 59s 979us/step - loss: 0.0242 - acc: 0.9922 - val_loss: 0.0213 - val_acc: 0.9929\n",
      "Epoch 7/12\n",
      "60000/60000 [==============================] - 59s 976us/step - loss: 0.0198 - acc: 0.9939 - val_loss: 0.0239 - val_acc: 0.9923\n",
      "Epoch 8/12\n",
      "60000/60000 [==============================] - 58s 968us/step - loss: 0.0182 - acc: 0.9936 - val_loss: 0.0235 - val_acc: 0.9927\n",
      "Epoch 9/12\n",
      "60000/60000 [==============================] - 58s 965us/step - loss: 0.0172 - acc: 0.9942 - val_loss: 0.0228 - val_acc: 0.9917\n",
      "Epoch 10/12\n",
      "60000/60000 [==============================] - 57s 958us/step - loss: 0.0145 - acc: 0.9953 - val_loss: 0.0279 - val_acc: 0.9915\n",
      "Epoch 11/12\n",
      "60000/60000 [==============================] - 58s 964us/step - loss: 0.0139 - acc: 0.9954 - val_loss: 0.0217 - val_acc: 0.9925\n",
      "Epoch 12/12\n",
      "60000/60000 [==============================] - 58s 959us/step - loss: 0.0115 - acc: 0.9962 - val_loss: 0.0234 - val_acc: 0.9936\n",
      "Test loss: 0.023363230100554574\n",
      "Test accuracy: 0.9936\n"
     ]
    }
   ],
   "source": [
    "history=model.fit(x_train, y_train,\n",
    "batch_size=batch_size,\n",
    "epochs=epochs,\n",
    "verbose=1,\n",
    "validation_data=(x_test, y_test))\n",
    "score = model.evaluate(x_test, y_test, verbose=0)\n",
    "print('Test loss:', score[0])\n",
    "print('Test accuracy:', score[1])"
   ]
  },
  {
   "cell_type": "code",
   "execution_count": 32,
   "metadata": {},
   "outputs": [
    {
     "name": "stdout",
     "output_type": "stream",
     "text": [
      "Train score: 0.00590441487302293\n",
      "Train accuracy: 99.80166666666666\n",
      "\n",
      "************************ *********************\n",
      "\n",
      "Test score: 0.023363230100554574\n",
      "Test accuracy: 99.36\n"
     ]
    },
    {
     "data": {
      "image/png": "[encoded data removed]",
      "text/plain": [
       "<Figure size 432x288 with 1 Axes>"
      ]
     },
     "metadata": {
      "needs_background": "light"
     },
     "output_type": "display_data"
    }
   ],
   "source": [
    "score = model.evaluate(x_train, y_train, verbose=0)\n",
    "print('Train score:', score[0])\n",
    "print('Train accuracy:', score[1]*100)\n",
    "print('\\n************************ *********************\\n')\n",
    "#test accuracy\n",
    "score = model.evaluate(x_test, y_test, verbose=0)\n",
    "print('Test score:', score[0])\n",
    "print('Test accuracy:', score[1]*100)\n",
    "# plot\n",
    "fig,ax = plt.subplots(1,1)\n",
    "ax.set_xlabel('epoch');\n",
    "ax.set_ylabel('Categorical Crossentropy Loss')\n",
    "x = list(range(1,12+1))\n",
    "vy = history.history['val_loss']\n",
    "ty = history.history['loss']\n",
    "plt_dynamic(x, vy, ty, ax)"
   ]
  },
  {
   "cell_type": "markdown",
   "metadata": {},
   "source": [
    "# Compare all the model results"
   ]
  },
  {
   "cell_type": "code",
   "execution_count": 33,
   "metadata": {},
   "outputs": [
    {
     "name": "stdout",
     "output_type": "stream",
     "text": [
      "+-------------+----------------+--------------+---------+----------+\n",
      "| conv_layers | MAxPoll_layers | Dense_layers | Dropout | Accuracy |\n",
      "+-------------+----------------+--------------+---------+----------+\n",
      "|      2      |       2        |      3       |    NO   |  98.81   |\n",
      "|      3      |       3        |      2       |    NO   |  98.81   |\n",
      "|      4      |       2        |      2       |    NO   |  99.35   |\n",
      "|      2      |       2        |      3       |   0.5   |   99.1   |\n",
      "|      3      |       3        |      2       |   0.9   |   97.0   |\n",
      "|      4      |       2        |      2       |   0.3   |  99.36   |\n",
      "+-------------+----------------+--------------+---------+----------+\n"
     ]
    }
   ],
   "source": [
    "from prettytable import PrettyTable\n",
    "tb = PrettyTable()\n",
    "tb.field_names= (\"conv_layers\", \"MAxPoll_layers\", \"Dense_layers\",\"Dropout\",\"Accuracy\")\n",
    "tb.add_row([\"2\", \"2\",\"3\",\"NO\",98.81])\n",
    "tb.add_row([\"3\", \"3\",\"2\",\"NO\",98.81])\n",
    "tb.add_row([\"4\", \"2\",\"2\",\"NO\",99.35])\n",
    "tb.add_row([\"2\", \"2\",\"3\",\"0.5\",99.1])\n",
    "tb.add_row([\"3\", \"3\",\"2\",\"0.9\",97.0])\n",
    "tb.add_row([\"4\", \"2\",\"2\",\"0.3\",99.36])\n",
    "print(tb.get_string(titles = \"CNN Models - Observations\"))"
   ]
  }
 ],
 "metadata": {
  "kernelspec": {
   "display_name": "Python 3",
   "language": "python",
   "name": "python3"
  },
  "language_info": {
   "codemirror_mode": {
    "name": "ipython",
    "version": 3
   },
   "file_extension": ".py",
   "mimetype": "text/x-python",
   "name": "python",
   "nbconvert_exporter": "python",
   "pygments_lexer": "ipython3",
   "version": "3.7.3"
  }
 },
 "nbformat": 4,
 "nbformat_minor": 2
}
